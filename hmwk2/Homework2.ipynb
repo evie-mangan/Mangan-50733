{
 "cells": [
  {
   "cell_type": "markdown",
   "id": "6c693a0b-8009-4b4c-bec5-03a694642160",
   "metadata": {},
   "source": [
    "## Homework 2\n",
    "### Due: Thursday Feb. 13\n",
    "\n",
    "**Integer vs floating point number**\n",
    "\n",
    "Write a program to calculate and print the factorial of a\n",
    "number.  If you wish you can base your program on the\n",
    "user-defined function for factorial given in Section 2.6, but write your\n",
    "program so that it calculates the factorial using *integer*\n",
    "variables, not floating-point ones.  Use your program to calculate the\n",
    "factorial of 200.\n",
    "\n",
    "Now modify your program to use floating-point variables instead and again\n",
    "calculate the factorial of 200.  What do you find?  Explain.\n",
    "\n",
    "(20 points)"
   ]
  },
  {
   "cell_type": "code",
   "execution_count": 1,
   "id": "de7fed8f-325f-4eab-ab18-1e59d1d6b428",
   "metadata": {},
   "outputs": [
    {
     "name": "stdout",
     "output_type": "stream",
     "text": [
      "Factorial of 200 when interger-only values are allowed: 788657867364790503552363213932185062295135977687173263294742533244359449963403342920304284011984623904177212138919638830257642790242637105061926624952829931113462857270763317237396988943922445621451664240254033291864131227428294853277524242407573903240321257405579568660226031904170324062351700858796178922222789623703897374720000000000000000000000000000000000000000000000000\n",
      "Factorial of 200 when floating-point variables are allowed: inf\n"
     ]
    }
   ],
   "source": [
    "# code\n",
    "# import math <- never do this, numpy > math\n",
    "\n",
    "# Trial using intergers only\n",
    "def factorial(n):\n",
    "    result = 1\n",
    "    for i in range(1, n + 1):\n",
    "        result *= i\n",
    "    return result\n",
    "\n",
    "print(\"Factorial of 200 when interger-only values are allowed:\", factorial(200))  \n",
    "\n",
    "# Trial for floating-point variables\n",
    "def factorial_new(n):\n",
    "    result = 1.0\n",
    "    for i in range(1, n + 1):  \n",
    "        result *= i\n",
    "    return result\n",
    "\n",
    "print(\"Factorial of 200 when floating-point variables are allowed:\", factorial_new(200))\n"
   ]
  },
  {
   "cell_type": "markdown",
   "id": "03726b89",
   "metadata": {},
   "source": [
    "**Explanation:** The first trial using interger-only values is able to calculate a value because Python somehow knows how to store that many digits in an integer output; however, when we attempt to run code that allows floating-point values the digit count exceeds Python's storing capacity and it gives \"inf\" as the output. "
   ]
  },
  {
   "cell_type": "markdown",
   "id": "1e9a5155-daa8-4809-8e6a-e5d4ab7c270d",
   "metadata": {},
   "source": [
    "**A Simple Derivative**\n",
    "\n",
    "Suppose we have a function $f(x)$ and we want to\n",
    "calculate its derivative at a point $x$.  We can do that with pencil and\n",
    "paper if we know the mathematical form of the function, or we can do it on\n",
    "the computer by making use of the definition of the derivative:\n",
    "\n",
    "<p style=\"text-align:center;\">\n",
    "${d f\\over d x} = \\lim_{\\delta\\to0} {f(x+\\delta)-f(x)\\over\\delta}.$\n",
    "</p>\n",
    "\n",
    "On the computer we can't actually take the limit as $\\delta$ goes to\n",
    "zero, but we can get a reasonable approximation just by making $\\delta$\n",
    "small.\n",
    "- Write a program that defines a function *f(x)* returning the\n",
    "  value $x(x-1)$, then calculates the derivative of the function at the\n",
    "  point $x=1$ using the formula above with $\\delta=10^{-2}$.  Calculate\n",
    "  the true value of the same derivative analytically and compare with the\n",
    "  answer your program gives.  The two will not agree perfectly.  Why not?\n",
    "- Repeat the calculation for $\\delta=10^{-4}$, $10^{-6}$, $10^{-8}$,\n",
    "  $10^{-10}$, $10^{-12}$, and $10^{-14}$.  You should see that the accuracy\n",
    "  of the calculation initially gets better as $\\delta$ gets smaller, but\n",
    "  then gets worse again.  Why is this?\n",
    "\n",
    "(20 points)"
   ]
  },
  {
   "cell_type": "code",
   "execution_count": 2,
   "id": "84528686-9eb8-4446-81db-1a6dc4a26a30",
   "metadata": {},
   "outputs": [
    {
     "name": "stdout",
     "output_type": "stream",
     "text": [
      "Delta       Numerical Derivative     Error\n",
      "0.01        1.010000000000001        0.010000000000000897\n",
      "0.0001      1.0000999999998899       9.999999988985486e-05\n",
      "1e-06       1.0000009999177333       9.99917733279787e-07\n",
      "1e-08       1.0000000039225287       3.922528746258536e-09\n",
      "1e-10       1.000000082840371        8.284037100736441e-08\n",
      "1e-12       1.0000889005833413       8.890058334132256e-05\n",
      "1e-14       0.9992007221626509       0.0007992778373491216\n"
     ]
    }
   ],
   "source": [
    "# code\n",
    "import numpy as np\n",
    "\n",
    "# Derivative of x(x-1) is 2x - 1, at x=1 the answer is 1 \n",
    "true_value = 1\n",
    "\n",
    "# Define the function f(x)\n",
    "def f(x):\n",
    "    return x * (x - 1)\n",
    "\n",
    "# Define x\n",
    "x_point = 1\n",
    "\n",
    "# Compute derivative numerically\n",
    "def numerical_derivative(x, delta):\n",
    "    return (f(x + delta) - f(x)) / delta\n",
    "\n",
    "# Different values of delta\n",
    "deltas = [10**-2, 10**-4, 10**-6, 10**-8, 10**-10, 10**-12, 10**-14]\n",
    "\n",
    "# Run loop over different delta values and calculate errors\n",
    "print(f\"{'Delta':<12}{'Numerical Derivative':<25}{'Error'}\")\n",
    "for delta in deltas:\n",
    "    num_value = numerical_derivative(x_point, delta)\n",
    "    error = abs(num_value - true_value)\n",
    "    print(f\"{delta:<12}{num_value:<25}{error}\")"
   ]
  },
  {
   "cell_type": "markdown",
   "id": "ebb2e1bb-74fa-4897-9d4d-8ba74bfe1ad2",
   "metadata": {},
   "source": [
    "### Simpson's Rule\n",
    "\n",
    "- Write a program to calculate an approximate value for the integral $\\int_{0}^{2} ( x^4 - 2x + 1)dx$ from Example 5.1 in the book, but using Simpson's rule with 10 slices instead of the trapezoid rule. You may be able to modify your code from the trapezoid rule to complete this task. Compare your result to the known correct value of 4.4. What is the fractional error on your calculation?\n",
    "\n",
    "- Copy your code and modify it to use one hundred slices, then one thousand. Note the improvement in the result and compare to the results from the trapezoid rule.\n",
    "\n",
    "(30 points)"
   ]
  },
  {
   "cell_type": "code",
   "execution_count": 3,
   "id": "d8370bf3-7d95-442e-8d4d-b3636a60e6e7",
   "metadata": {},
   "outputs": [
    {
     "name": "stdout",
     "output_type": "stream",
     "text": [
      "Simpson's Rule with 10 slices: 4.400427, Fractional Error: 9.696970e-05\n"
     ]
    }
   ],
   "source": [
    "# Simpson's Rule with N = 10\n",
    "\n",
    "import numpy as np\n",
    "import matplotlib.pyplot as plt\n",
    "\n",
    "# Define Simpson's Rule\n",
    "def simpsons_rule(f, a, b, n):\n",
    "    if n % 2 == 1:\n",
    "        n += 1  # important: n has to be even\n",
    "    h = (b - a) / n\n",
    "    x = np.linspace(a, b, n + 1)\n",
    "    y = f(x)\n",
    "    return (h / 3) * (y[0] + 4 * sum(y[1:n:2]) + 2 * sum(y[2:n-1:2]) + y[n])\n",
    "\n",
    "# Define f(x)\n",
    "def f(x):\n",
    "    return x**4 - 2*x + 1\n",
    "\n",
    "# Set bounds\n",
    "a, b = 0, 2\n",
    "\n",
    "# Calculate values\n",
    "n = 10\n",
    "result_10 = simpsons_rule(f, a, b, n)\n",
    "fractional_error_10 = abs((result_10 - 4.4) / 4.4)\n",
    "print(f\"Simpson's Rule with {n} slices: {result_10:.6f}, Fractional Error: {fractional_error_10:.6e}\")"
   ]
  },
  {
   "cell_type": "code",
   "execution_count": 4,
   "id": "a8d26838",
   "metadata": {},
   "outputs": [
    {
     "name": "stdout",
     "output_type": "stream",
     "text": [
      "Simpson's Rule with 100 slices: 4.400000, Fractional Error: 9.696970e-09\n"
     ]
    }
   ],
   "source": [
    "# Simpson's Rule with N = 100\n",
    "\n",
    "import numpy as np\n",
    "import matplotlib.pyplot as plt\n",
    "\n",
    "\n",
    "# Define Simpson's Rule\n",
    "def simpsons_rule(f, a, b, n):\n",
    "    if n % 2 == 1:\n",
    "        n += 1  # important: n has to be even\n",
    "    h = (b - a) / n\n",
    "    x = np.linspace(a, b, n + 1)\n",
    "    y = f(x)\n",
    "    return (h / 3) * (y[0] + 4 * sum(y[1:n:2]) + 2 * sum(y[2:n-1:2]) + y[n])\n",
    "\n",
    "# Define f(x)\n",
    "def f(x):\n",
    "    return x**4 - 2*x + 1\n",
    "\n",
    "# Set bounds\n",
    "a, b = 0, 2\n",
    "\n",
    "# Calculate values\n",
    "n = 100\n",
    "result_100 = simpsons_rule(f, a, b, n)\n",
    "fractional_error_100 = abs((result_100 - 4.4) / 4.4)\n",
    "print(f\"Simpson's Rule with {n} slices: {result_100:.6f}, Fractional Error: {fractional_error_100:.6e}\")"
   ]
  },
  {
   "cell_type": "code",
   "execution_count": 5,
   "id": "c05f04b4",
   "metadata": {},
   "outputs": [
    {
     "name": "stdout",
     "output_type": "stream",
     "text": [
      "Simpson's Rule with 1000 slices: 4.400000, Fractional Error: 9.697293e-13\n"
     ]
    }
   ],
   "source": [
    "# Simpson's Rule with N = 1000\n",
    "\n",
    "import numpy as np\n",
    "import matplotlib.pyplot as plt\n",
    "\n",
    "# Define Simpson's Rule\n",
    "def simpsons_rule(f, a, b, n):\n",
    "    if n % 2 == 1:\n",
    "        n += 1  # important: n has to be even\n",
    "    h = (b - a) / n\n",
    "    x = np.linspace(a, b, n + 1)\n",
    "    y = f(x)\n",
    "    return (h / 3) * (y[0] + 4 * sum(y[1:n:2]) + 2 * sum(y[2:n-1:2]) + y[n])\n",
    "\n",
    "# Define f(x)\n",
    "def f(x):\n",
    "    return x**4 - 2*x + 1\n",
    "\n",
    "# Set bounds\n",
    "a, b = 0, 2\n",
    "\n",
    "# Calculate values\n",
    "n = 1000\n",
    "result_1000 = simpsons_rule(f, a, b, n)\n",
    "fractional_error_1000 = abs((result_1000 - 4.4) / 4.4)\n",
    "print(f\"Simpson's Rule with {n} slices: {result_1000:.6f}, Fractional Error: {fractional_error_1000:.6e}\")"
   ]
  },
  {
   "cell_type": "markdown",
   "id": "4e5ba0fa",
   "metadata": {},
   "source": [
    "**Comparison:** As the number of slices increases by a factor of 10 the fractional error decreases dramatically. "
   ]
  },
  {
   "cell_type": "markdown",
   "id": "4c080cd1-540e-4ab2-a0d6-3372d1899b4f",
   "metadata": {},
   "source": [
    "### An Integral With No Analytic Solution\n",
    "\n",
    "Consider the integral\n",
    "\n",
    "$$ E(x) = \\int_{0}^{x} \\exp{-t^2} dt$$\n",
    "\n",
    "- Write a program to calculate $E(x)$ for values of x from 0 to 3 in steps of 0.1. Choose for yourself what method you will use for performing the integral and a suitable number of slices.\n",
    "\n",
    "- When you are convinced your program is working, extend it further to make a graph of E(x) as a function of x.\n",
    "\n",
    "(30 points)"
   ]
  },
  {
   "cell_type": "code",
   "execution_count": 6,
   "id": "27aaf5cb-8c02-4c8a-affe-d7d67c969b59",
   "metadata": {},
   "outputs": [
    {
     "data": {
      "image/png": "[encoded data removed]",
      "text/plain": [
       "<Figure size 640x480 with 1 Axes>"
      ]
     },
     "metadata": {},
     "output_type": "display_data"
    }
   ],
   "source": [
    "# Trapeziodal rule for integrating \n",
    "\n",
    "import numpy as np\n",
    "import matplotlib.pyplot as plt\n",
    "\n",
    "# Define trapezoidal rule with integral E(x)\n",
    "def E(x, n=1000):\n",
    "    t_values = np.linspace(0, x, n)     \n",
    "    f_values = np.exp(-t_values**2)     \n",
    "    dx = x / (n - 1)                    \n",
    "    return np.trapz(f_values, dx=dx)  \n",
    "\n",
    "x_values = np.arange(0, 3.1, 0.1)\n",
    "E_values = [E(x) for x in x_values]\n",
    "\n",
    "plt.plot(x_values, E_values, color='b')\n",
    "plt.xlabel('x')\n",
    "plt.ylabel('E(x)')\n",
    "plt.title('E(x) as a function of x')\n",
    "plt.grid()\n",
    "plt.show()"
   ]
  },
  {
   "cell_type": "code",
   "execution_count": null,
   "id": "24fce9c5",
   "metadata": {},
   "outputs": [],
   "source": []
  }
 ],
 "metadata": {
  "kernelspec": {
   "display_name": "Python 3 (ipykernel)",
   "language": "python",
   "name": "python3"
  },
  "language_info": {
   "codemirror_mode": {
    "name": "ipython",
    "version": 3
   },
   "file_extension": ".py",
   "mimetype": "text/x-python",
   "name": "python",
   "nbconvert_exporter": "python",
   "pygments_lexer": "ipython3",
   "version": "3.11.5"
  }
 },
 "nbformat": 4,
 "nbformat_minor": 5
}
